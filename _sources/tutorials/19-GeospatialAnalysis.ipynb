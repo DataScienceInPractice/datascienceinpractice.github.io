{
 "cells": [
  {
   "cell_type": "markdown",
   "metadata": {},
   "source": [
    "# GeoSpatial Analysis\n",
    "\n",
    "NOTE: TUTORIAL UNDER CONSTRUCTION."
   ]
  },
  {
   "cell_type": "markdown",
   "metadata": {},
   "source": [
    "<div class=\"alert alert-success\">\n",
    "...\n",
    "</div>\n",
    "\n",
    "<div class=\"alert alert-info\">\n",
    "<a href=https://en.wikipedia.org/wiki/Statistical_classification>Classification</a>\n",
    "</div>"
   ]
  },
  {
   "cell_type": "markdown",
   "metadata": {},
   "source": [
    "## Using the Google Maps API"
   ]
  },
  {
   "cell_type": "code",
   "execution_count": null,
   "metadata": {},
   "outputs": [],
   "source": [
    "# Import\n",
    "%matplotlib inline\n",
    "\n",
    "#import folium\n",
    "import requests"
   ]
  },
  {
   "cell_type": "code",
   "execution_count": null,
   "metadata": {},
   "outputs": [],
   "source": [
    "# Set the Google Maps API URL\n",
    "url = 'https://maps.googleapis.com/maps/api/geocode/json'\n",
    "\n",
    "# Set the parameters to use with the URL\n",
    "#  Here we set an 'address' field with the address we wish to search for\n",
    "params = {'address': 'UCSD Peterson Hall, Peterson Hall, San Diego, CA'}"
   ]
  },
  {
   "cell_type": "code",
   "execution_count": null,
   "metadata": {},
   "outputs": [],
   "source": [
    "# Make the URL request\n",
    "req_result = requests.get(url, params=params)"
   ]
  },
  {
   "cell_type": "code",
   "execution_count": null,
   "metadata": {},
   "outputs": [],
   "source": [
    "# Pull out the results field of the Response object\n",
    "results = req_result.json()['results']"
   ]
  },
  {
   "cell_type": "code",
   "execution_count": null,
   "metadata": {},
   "outputs": [],
   "source": [
    "# Grab the location data\n",
    "#location = results[0]['geometry']['location']\n",
    "\n",
    "# Check the result - lat, long data\n",
    "#print(location['lat'], location['lng'])"
   ]
  },
  {
   "cell_type": "code",
   "execution_count": null,
   "metadata": {},
   "outputs": [],
   "source": [
    "type(req_result)"
   ]
  },
  {
   "cell_type": "code",
   "execution_count": null,
   "metadata": {},
   "outputs": [],
   "source": [
    "results"
   ]
  },
  {
   "cell_type": "code",
   "execution_count": null,
   "metadata": {},
   "outputs": [],
   "source": []
  },
  {
   "cell_type": "code",
   "execution_count": null,
   "metadata": {},
   "outputs": [],
   "source": []
  },
  {
   "cell_type": "code",
   "execution_count": null,
   "metadata": {},
   "outputs": [],
   "source": []
  },
  {
   "cell_type": "code",
   "execution_count": null,
   "metadata": {},
   "outputs": [],
   "source": []
  },
  {
   "cell_type": "markdown",
   "metadata": {},
   "source": [
    "# Python packages for playing with geospatial data\n",
    "\n",
    "* haversine: computes straight line distance\n",
    "* folum: python wrapper for leaflet.js"
   ]
  },
  {
   "cell_type": "code",
   "execution_count": null,
   "metadata": {},
   "outputs": [],
   "source": [
    "%load_ext autoreload\n",
    "%matplotlib inline\n",
    "%config InlineBackend.figure_format = 'retina' # high res plotting\n",
    "\n",
    "import folium\n",
    "# pip install folium\n",
    "# https://folium.readthedocs.io/en/latest\n",
    "\n",
    "from haversine import haversine, Unit\n",
    "# pip install haversine\n",
    "# https://pypi.python.org/pypi/haversine\n",
    "\n",
    "import geocoder\n",
    "# pip install geocoder\n",
    "# https://pypi.python.org/pypi/geocoder\n",
    "\n",
    "import shapefile\n",
    "# pip install pyshp\n",
    "# shapefile package: pyshp\n",
    "# https://pypi.python.org/pypi/pyshp"
   ]
  },
  {
   "cell_type": "code",
   "execution_count": null,
   "metadata": {},
   "outputs": [],
   "source": [
    "import numpy as np\n",
    "import requests\n",
    "\n",
    "import seaborn as sns\n",
    "sns.set_style('whitegrid')\n",
    "sns.set_style(\"whitegrid\", {'axes.grid' : False})\n",
    "\n",
    "import matplotlib\n",
    "import matplotlib.pyplot as plt\n",
    "\n",
    "# plot settings\n",
    "font = {'family' : 'Bitstream Vera Sans',\n",
    "        'weight' : 'regular',\n",
    "        'size'   : 13}\n",
    "figure = {'figsize' : (10,8)}\n",
    "\n",
    "matplotlib.rc('font', **font)\n",
    "matplotlib.rc('figure', **figure)"
   ]
  },
  {
   "cell_type": "code",
   "execution_count": null,
   "metadata": {},
   "outputs": [],
   "source": [
    "# simplified method using geocoder package\n",
    "# NOTE that I *highly* recommend you get an API key from\n",
    "    # google and use geocoder.google instead of geocoder.geocodefarm\n",
    "\n",
    "g = geocoder.geocodefarm('Price Center, La Jolla, CA')\n",
    "g.json\n"
   ]
  },
  {
   "cell_type": "code",
   "execution_count": null,
   "metadata": {},
   "outputs": [],
   "source": [
    "print(g.latlng)"
   ]
  },
  {
   "cell_type": "code",
   "execution_count": null,
   "metadata": {},
   "outputs": [],
   "source": [
    "# reverse geocoding a lat/lng to an address\n",
    "g = geocoder.geocodefarm(g.latlng, method='reverse')\n",
    "g.json\n"
   ]
  },
  {
   "cell_type": "code",
   "execution_count": null,
   "metadata": {},
   "outputs": [],
   "source": [
    "# working with shapefiles\n",
    "# neighborhood shapefile data from Zillow:\n",
    "# https://www.zillow.com/howto/api/neighborhood-boundaries.htm\n",
    "\n",
    "sf = shapefile.Reader(\"ZillowNeighborhoods-RI.shp\")\n",
    "shapes = sf.shapes()\n"
   ]
  },
  {
   "cell_type": "code",
   "execution_count": null,
   "metadata": {},
   "outputs": [],
   "source": [
    " shapes[0].points"
   ]
  },
  {
   "cell_type": "code",
   "execution_count": null,
   "metadata": {},
   "outputs": [],
   "source": [
    "j=0\n",
    "for i in range(len(shapes[j].points)):\n",
    "    plt.scatter(shapes[j].points[i][0], shapes[j].points[i][1], c='k')\n",
    "\n",
    "plt.show()"
   ]
  },
  {
   "cell_type": "markdown",
   "metadata": {
    "collapsed": true
   },
   "source": [
    "## Working with shapefiles\n",
    "#### There are many issues with geospatial analyses, as I outlined in lecture.\n",
    "#### One is how you aggregate data so that you can analyze them.\n",
    "#### One way is to break up a geographic region into equally-size units (hexagonal tiling, for example).\n",
    "#### But, for the sake of interpretability and intuitiveness, neighborhood boundaries work quite well.\n",
    "#### Here's one way of doing that using shapefiles, which are just a way of storing geographic boundaries as sets of lat/lng pairs that outline a region and associate it with metadata about that region.\n",
    "#### Thankfully the real estate website Zillow has done this hard work and made the shapefiles freely available."
   ]
  },
  {
   "cell_type": "code",
   "execution_count": null,
   "metadata": {},
   "outputs": [],
   "source": [
    "# read the in the shapefile and list the methods associated with the object\n",
    "sf = shapefile.Reader(\"ZillowNeighborhoods-CA.shp\")\n",
    "dir(sf)"
   ]
  },
  {
   "cell_type": "code",
   "execution_count": null,
   "metadata": {},
   "outputs": [],
   "source": [
    "# read in the dbf (metadata) file and list all the methods associated with it\n",
    "sfdbf = shapefile.Reader(\"ZillowNeighborhoods-CA.dbf\")\n",
    "dir(sfdbf)"
   ]
  },
  {
   "cell_type": "code",
   "execution_count": null,
   "metadata": {},
   "outputs": [],
   "source": [
    "metadata = sfdbf.shapeRecords()\n",
    "metadata[38].record\n"
   ]
  },
  {
   "cell_type": "code",
   "execution_count": null,
   "metadata": {},
   "outputs": [],
   "source": [
    "# find indices of all San Diego neighborhoods\n",
    "sd_list = []\n",
    "counter = 0\n",
    "\n",
    "for i in range(len(metadata)):\n",
    "    if metadata[i].record[2] == 'San Diego':\n",
    "        sd_list.append(i)\n",
    "        counter += 1\n"
   ]
  },
  {
   "cell_type": "code",
   "execution_count": null,
   "metadata": {},
   "outputs": [],
   "source": [
    "shapes = sf.shapes()\n",
    "\n",
    "sd_shapes = []\n",
    "\n",
    "for i in range(len(sd_list)):\n",
    "    sd_shapes.append(shapes[sd_list[i]].points)\n",
    "\n",
    "for i in range(len(sd_shapes)):\n",
    "    for j in range(len(sd_shapes[i])):\n",
    "        sd_shapes[i][j] = sd_shapes[i][j][::-1]\n"
   ]
  },
  {
   "cell_type": "code",
   "execution_count": null,
   "metadata": {},
   "outputs": [],
   "source": [
    "temp_shapes = sd_shapes[0:5]\n",
    "\n",
    "for i in range(len(temp_shapes)):\n",
    "    for j in range(len(temp_shapes[i])):\n",
    "        plt.scatter(temp_shapes[i][j][0], temp_shapes[i][j][1], s=1, c='k')\n",
    "\n",
    "plt.show()\n"
   ]
  },
  {
   "cell_type": "code",
   "execution_count": null,
   "metadata": {},
   "outputs": [],
   "source": [
    "# two coordinates\n",
    "\n",
    "coordinate_1 = [32.8811, -117.2375]\n",
    "coordinate_2 = [32.8709, -117.2108]\n"
   ]
  },
  {
   "cell_type": "code",
   "execution_count": null,
   "metadata": {},
   "outputs": [],
   "source": [
    "# Computes the distance between two points in kilometers\n",
    "ditance_in_km = haversine(coordinate_1, coordinate_2)\n",
    "ditance_in_km"
   ]
  },
  {
   "cell_type": "code",
   "execution_count": null,
   "metadata": {},
   "outputs": [],
   "source": [
    "# Distance in miles\n",
    "ditance_in_mi = haversine(coordinate_1, coordinate_2, unit=Unit.MILES)\n",
    "ditance_in_mi"
   ]
  },
  {
   "cell_type": "code",
   "execution_count": null,
   "metadata": {},
   "outputs": [],
   "source": [
    "lat = coordinate_1[0]\n",
    "lon = coordinate_1[1]\n",
    "zoom_start = 14\n",
    "\n",
    "m = folium.Map(location=[lat, lon], zoom_start=zoom_start)\n",
    "\n",
    "kw = dict(fill_color='red', radius=20)\n",
    "c0 = folium.CircleMarker(coordinate_1, **kw)\n",
    "c1 = folium.CircleMarker(coordinate_2, **kw)\n",
    "\n",
    "for c in [c0, c1]:\n",
    "    m.add_child(c)\n",
    "\n",
    "m"
   ]
  },
  {
   "cell_type": "code",
   "execution_count": null,
   "metadata": {
    "scrolled": true
   },
   "outputs": [],
   "source": [
    "zoom_start = 10\n",
    "m = folium.Map(location=[lat, lon], zoom_start=zoom_start, tiles='Stamen Toner')\n",
    "\n",
    "for c in range(len(sd_shapes)):\n",
    "    hood_line = folium.PolyLine(locations=sd_shapes[c], weight=2, color = 'blue')\n",
    "    m.add_child(hood_line)\n",
    "\n",
    "m\n"
   ]
  },
  {
   "cell_type": "code",
   "execution_count": null,
   "metadata": {
    "scrolled": false
   },
   "outputs": [],
   "source": [
    "# GET COLORS HERE: http://colorbrewer2.org\n",
    "\n",
    "zoom_start = 10\n",
    "m = folium.Map(location=[lat, lon], zoom_start=zoom_start, tiles='Stamen Toner')\n",
    "\n",
    "for c in range(len(sd_shapes)):\n",
    "    hood_line = folium.features.PolyLine(locations=sd_shapes[c], color='#FF0000', fill_color='#fc8d50', weight=5)\n",
    "    m.add_child(hood_line)\n",
    "\n",
    "m"
   ]
  },
  {
   "cell_type": "code",
   "execution_count": null,
   "metadata": {},
   "outputs": [],
   "source": []
  }
 ],
 "metadata": {
  "kernelspec": {
   "display_name": "Python 3",
   "language": "python",
   "name": "python3"
  },
  "language_info": {
   "codemirror_mode": {
    "name": "ipython",
    "version": 3
   },
   "file_extension": ".py",
   "mimetype": "text/x-python",
   "name": "python",
   "nbconvert_exporter": "python",
   "pygments_lexer": "ipython3",
   "version": "3.7.4"
  }
 },
 "nbformat": 4,
 "nbformat_minor": 2
}
