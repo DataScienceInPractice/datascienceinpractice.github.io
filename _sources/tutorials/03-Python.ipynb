{
 "cells": [
  {
   "cell_type": "markdown",
   "metadata": {
    "collapsed": true
   },
   "source": [
    "![title](img/python.png)"
   ]
  },
  {
   "cell_type": "markdown",
   "metadata": {
    "collapsed": true
   },
   "source": [
    "<div class=\"alert alert-success\"> \n",
    "Python is an \n",
    "<a href=\"https://en.wikipedia.org/wiki/Open-source_model\" class=\"alert-link\">open-source</a>, \n",
    "<a href=\"https://en.wikipedia.org/wiki/High-level_programming_language\" class=\"alert-link\">high-level </a>, \n",
    "<a href=\"https://en.wikipedia.org/wiki/General-purpose_programming_language\" class=\"alert-link\">general purpose</a>, \n",
    "<a href=\"https://en.wikipedia.org/wiki/Interpreted_language\" class=\"alert-link\">interpreted</a>, \n",
    "<a href=\"https://en.wikipedia.org/wiki/Programming_language\" class=\"alert-link\">programming language</a>, \n",
    "one of the most popular for data science applications. \n",
    "</div>\n",
    "\n",
    "<div class=\"alert alert-info\">\n",
    "The official Python\n",
    "<a href=\"https://www.python.org\" class=\"alert-link\">website</a>.\n",
    "</div>"
   ]
  },
  {
   "cell_type": "markdown",
   "metadata": {},
   "source": [
    "## Why Python\n",
    "\n",
    "- As a general purpose language, Python supports a large range of tasks.\n",
    "    - Or put another way: 'Python isn't the best at anything, but it's second best at everything'\n",
    "    - This is useful. A data science project may include everything from scraping data from the web, analyzing a mixture or text and numerical data, computing features, training a model, creating high-quality graphs, and then hosting a website with your results. \n",
    "- Python is explicitly and by design, user-friendly.\n",
    "- Python also has a massive user community, who contribute to a large number of high-quality, well maintained open-source tools.\n",
    "    - The best language for your project is one which has the things you need.\n",
    "- In part for the reasons listed above, Python is heavily used in industry."
   ]
  },
  {
   "cell_type": "markdown",
   "metadata": {},
   "source": [
    "## Tutorials for Learning Python\n",
    "\n",
    "- [Codecademy](https://www.codecademy.com/tracks/python) is great for beginner levels.\n",
    "- There is also the [Official Beginners Guide](https://wiki.python.org/moin/BeginnersGuide).\n",
    "- [Learn Python the Hard Way](https://learnpythonthehardway.org/book/) is a great tutorial for a more in-depth overview.\n",
    "    - It isn't actually particularly hard, although note that the currently available version is in Python2. \n",
    "- [Whirlwind Tour of Python](https://github.com/jakevdp/WhirlwindTourOfPython) is a free collection of Jupyter notebooks that takes you through Python. \n",
    "    - This book is especially good (and specifically designed for) if you have some experience with programming in some other language, and want to quickly run through the specifics of Python.\n",
    " \n",
    "\n",
    "## Python Practice\n",
    "\n",
    "- [Python Challenge](http://www.pythonchallenge.com/) is a good place for (sometimes infuriating) programming challenges.\n",
    "- [Leet Code](https://leetcode.com/) is a place for more intense technical coding questions and challenges (geared towards industry interviews)."
   ]
  },
  {
   "cell_type": "markdown",
   "metadata": {},
   "source": [
    "## Getting Un-Stuck\n",
    "\n",
    "At some point, you will get stuck. It happens. The internet is your friend. \n",
    "\n",
    "If you get an error, or aren't sure how to proceed, use {your favourite search engine} with specific search terms relating to what you are trying to do. Sometimes this just means searching the error that you got.\n",
    "\n",
    "Your are likely to find responses on [StackOverflow](https://stackoverflow.com) - which is basically a forum for programming questions, and a good place to find answers. "
   ]
  },
  {
   "cell_type": "markdown",
   "metadata": {},
   "source": [
    "## Python2 vs. Python3\n",
    "\n",
    "This class will use Python3 - it is the currently developed version of Python. Specifically 3.6 is the most recent version, released in 2016. \n",
    "\n",
    "Python3 was a break from Python2, because there were some larger changes that broke [backwards compatibility](https://en.wikipedia.org/wiki/Backward_compatibility). \n",
    "\n",
    "Python2 is still popular, and often used, partly because it takes a while with major new releases for everything to be available, and to get things updated. Now though, Python3 has pretty much everything available, and is the future of Python. \n",
    "\n",
    "In practice, Python 2 & 3 are very similar - learning one will be mostly relevant for knowing the other, and code can usually be made compatible between both with minimal changes."
   ]
  },
  {
   "cell_type": "markdown",
   "metadata": {},
   "source": [
    "<div class=\"alert alert-info\">\n",
    "The official Python documentation includes a discussion of <a href=\"https://wiki.python.org/moin/Python2orPython3\" class=\"alert-link\">Py2 vs. Py3</a>, including guidance on which to use.  \n",
    "</div>"
   ]
  },
  {
   "cell_type": "markdown",
   "metadata": {},
   "source": [
    "## Packages"
   ]
  },
  {
   "cell_type": "markdown",
   "metadata": {},
   "source": [
    "<div class=\"alert alert-success\"> \n",
    "Packages are basically just collections of code. The anaconda distribution comes with all the core packages you will need for this class. \n",
    "</div>\n",
    "\n",
    "<div class=\"alert alert-info\"> \n",
    "For getting other packes, anaconda comes with\n",
    "<a href=\"https://conda.io/docs/using/pkgs.html\" class=\"alert-link\">conda</a>\n",
    "a package manager, with support for downloading and installing other packages.\n",
    "</div>"
   ]
  }
 ],
 "metadata": {
  "anaconda-cloud": {},
  "kernelspec": {
   "display_name": "Python [default]",
   "language": "python",
   "name": "python3"
  },
  "language_info": {
   "codemirror_mode": {
    "name": "ipython",
    "version": 3
   },
   "file_extension": ".py",
   "mimetype": "text/x-python",
   "name": "python",
   "nbconvert_exporter": "python",
   "pygments_lexer": "ipython3",
   "version": "3.6.3"
  }
 },
 "nbformat": 4,
 "nbformat_minor": 1
}
