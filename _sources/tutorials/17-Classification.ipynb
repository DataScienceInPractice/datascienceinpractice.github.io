{
 "cells": [
  {
   "cell_type": "markdown",
   "metadata": {},
   "source": [
    "# Classification"
   ]
  },
  {
   "cell_type": "markdown",
   "metadata": {},
   "source": [
    "<div class=\"alert alert-success\">\n",
    "Classification is process of categorizing data - of assigning data points to predefined groups (or clusters). \n",
    "</div>\n",
    "\n",
    "<div class=\"alert alert-info\">\n",
    "<a href=\"https://en.wikipedia.org/wiki/Statistical_classification\" class=\"alert-link\">Classification</a>\n",
    "article from wikipedia. \n",
    "</div>"
   ]
  },
  {
   "cell_type": "markdown",
   "metadata": {
    "collapsed": true
   },
   "source": [
    "## Support Vector Machines"
   ]
  },
  {
   "cell_type": "markdown",
   "metadata": {},
   "source": [
    "<div class=\"alert alert-success\">\n",
    "Support Vector Machines are a supervised classification algorithm.\n",
    "</div>\n",
    "\n",
    "<div class=\"alert alert-info\">\n",
    "This \n",
    "<a href=\"https://medium.com/machine-learning-101/chapter-2-svm-support-vector-machine-theory-f0812effc72\" class=\"alert-link\">article</a>\n",
    "provides a nice overview of the SVM algorithm. This is also a code-based explainer from\n",
    "<a href=\"http://scikit-learn.org/stable/modules/svm.html\" class=\"alert-link\">scikit-learn</a>.\n",
    "</div>"
   ]
  },
  {
   "cell_type": "code",
   "execution_count": 1,
   "metadata": {
    "collapsed": true
   },
   "outputs": [],
   "source": [
    "%matplotlib inline\n",
    "\n",
    "import numpy as np\n",
    "import matplotlib.pyplot as plt"
   ]
  },
  {
   "cell_type": "code",
   "execution_count": 2,
   "metadata": {
    "collapsed": true
   },
   "outputs": [],
   "source": [
    "# Imports - from scikit-learn\n",
    "from sklearn.svm import SVC\n",
    "from sklearn.metrics import classification_report"
   ]
  },
  {
   "cell_type": "markdown",
   "metadata": {},
   "source": [
    "### Overview\n",
    "\n",
    "In this example, we will generate some 2 dimensional data that comes from two different (known) groups, and apply an SVM classification model to this data. "
   ]
  },
  {
   "cell_type": "code",
   "execution_count": 3,
   "metadata": {
    "collapsed": true
   },
   "outputs": [],
   "source": [
    "# Setting for generating some random data\n",
    "n_points = 50\n",
    "label_prop = 0.5\n",
    "\n",
    "# Initialize data matrix (as zeros)\n",
    "dat = np.zeros(shape=[n_points, 2])\n",
    "\n",
    "# Set up the number of data points in each class\n",
    "n_dat_1 = int(n_points * label_prop)\n",
    "n_dat_2 = n_points - n_dat_1\n",
    "\n",
    "# Generate the data\n",
    "dat[0:n_dat_1, 0] = np.abs(np.random.randn(n_dat_1))\n",
    "dat[0:n_dat_1, 1] = np.abs(np.random.randn(n_dat_1))\n",
    "dat[n_dat_2:, 0] = np.abs(np.random.randn(n_dat_1)) + 2\n",
    "dat[n_dat_2:, 1] = np.abs(np.random.randn(n_dat_1)) + 2\n",
    "\n",
    "# Create the labels vector\n",
    "labels = np.array([0] * n_dat_1 + [1] * n_dat_2)"
   ]
  },
  {
   "cell_type": "code",
   "execution_count": 4,
   "metadata": {},
   "outputs": [
    {
     "data": {
      "image/png": "[encoded data removed]",
      "text/plain": [
       "<matplotlib.figure.Figure at 0x113f1d860>"
      ]
     },
     "metadata": {},
     "output_type": "display_data"
    }
   ],
   "source": [
    "# Plot out labelled data\n",
    "fig = plt.figure(figsize=[9, 7])\n",
    "plt.plot(dat[0:n_dat_1, 0], dat[0:n_dat_1, 1], 'b.', ms=12, label=\"Label=0\")\n",
    "plt.plot(dat[n_dat_2:, 0], dat[n_dat_2:, 1], 'g.', ms=12, label=\"Label=1\")\n",
    "plt.legend();"
   ]
  },
  {
   "cell_type": "markdown",
   "metadata": {},
   "source": [
    "### Scikit-Learn Objects\n",
    "\n",
    "As we can see above, we have two fairly distinct groups of data. Now we want to learn a mathematical procedure that can label these data into two groups, and we want it to learn a general procedure, that we can apply to new datapoints.\n",
    "\n",
    "Here we will use the typical scikit-learn approach:\n",
    "- Initialize an sklearn object for the model object we are using, setting the desired parameters\n",
    "- Train the model on our labelled training data\n",
    "- Check our performance on our labelled data (typically both the train set, and a separate, labelled, test set)\n",
    "- Apply the model to make predictions about new datapoints"
   ]
  },
  {
   "cell_type": "code",
   "execution_count": 5,
   "metadata": {
    "collapsed": true
   },
   "outputs": [],
   "source": [
    "# Initialize an SVM classifer object\n",
    "classifier = SVC(kernel='linear')"
   ]
  },
  {
   "cell_type": "code",
   "execution_count": 6,
   "metadata": {},
   "outputs": [
    {
     "data": {
      "text/plain": [
       "SVC(C=1.0, cache_size=200, class_weight=None, coef0=0.0,\n",
       "  decision_function_shape='ovr', degree=3, gamma='auto', kernel='linear',\n",
       "  max_iter=-1, probability=False, random_state=None, shrinking=True,\n",
       "  tol=0.001, verbose=False)"
      ]
     },
     "execution_count": 6,
     "metadata": {},
     "output_type": "execute_result"
    }
   ],
   "source": [
    "# Fit our classification model to our training data\n",
    "classifier.fit(dat, labels)"
   ]
  },
  {
   "cell_type": "code",
   "execution_count": 7,
   "metadata": {
    "collapsed": true
   },
   "outputs": [],
   "source": [
    "# Calculate predictions of the model on the training data\n",
    "train_predictions = classifier.predict(dat)"
   ]
  },
  {
   "cell_type": "code",
   "execution_count": 8,
   "metadata": {},
   "outputs": [
    {
     "name": "stdout",
     "output_type": "stream",
     "text": [
      "             precision    recall  f1-score   support\n",
      "\n",
      "          0       1.00      1.00      1.00        25\n",
      "          1       1.00      1.00      1.00        25\n",
      "\n",
      "avg / total       1.00      1.00      1.00        50\n",
      "\n"
     ]
    }
   ],
   "source": [
    "# Print out the performance metrics on the \n",
    "print(classification_report(train_predictions, labels))"
   ]
  },
  {
   "cell_type": "markdown",
   "metadata": {},
   "source": [
    "### Predicting New Data Points\n",
    "\n",
    "Once we have a trained model, we can predict labels for new data points - data for which we do not know the answer."
   ]
  },
  {
   "cell_type": "code",
   "execution_count": 9,
   "metadata": {
    "collapsed": true
   },
   "outputs": [],
   "source": [
    "# Set a new point - to predict a label for\n",
    "new_point = np.array([[3, 3]])"
   ]
  },
  {
   "cell_type": "code",
   "execution_count": 10,
   "metadata": {
    "collapsed": true
   },
   "outputs": [],
   "source": [
    "# Add our new point to figure (in red)\n",
    "fig.gca().plot(new_point[0][0], new_point[0][1], '.r', ms=12);"
   ]
  },
  {
   "cell_type": "code",
   "execution_count": 11,
   "metadata": {},
   "outputs": [
    {
     "data": {
      "image/png": "[encoded data removed]",
      "text/plain": [
       "<matplotlib.figure.Figure at 0x113f1d860>"
      ]
     },
     "execution_count": 11,
     "metadata": {},
     "output_type": "execute_result"
    }
   ],
   "source": [
    "# Redraw figure\n",
    "fig"
   ]
  },
  {
   "cell_type": "code",
   "execution_count": 12,
   "metadata": {},
   "outputs": [
    {
     "name": "stdout",
     "output_type": "stream",
     "text": [
      "Predicted class of new data point is:  1\n"
     ]
    }
   ],
   "source": [
    "# Predict the class of the new data point\n",
    "prediction = classifier.predict(new_point)\n",
    "print('Predicted class of new data point is: ', prediction[0])"
   ]
  },
  {
   "cell_type": "markdown",
   "metadata": {},
   "source": [
    "### Support Vectors\n",
    "\n",
    "One of the key features of SVMs are that they use 'support vectors', meaning they prioritise using information from data points close to the decision boundary, and use them to try to find the widest margin - the distance between the two groups. Here we can briefly explore the support vectors for our trained model."
   ]
  },
  {
   "cell_type": "code",
   "execution_count": 13,
   "metadata": {
    "collapsed": true
   },
   "outputs": [],
   "source": [
    "# Add the support vectors to plot\n",
    "#  Support vectors will be indicated by being highlighted with black circles\n",
    "for row in classifier.support_vectors_:\n",
    "    fig.gca().plot(row[0], row[1], 'ok', ms=14,  mfc='none')"
   ]
  },
  {
   "cell_type": "code",
   "execution_count": 14,
   "metadata": {},
   "outputs": [
    {
     "data": {
      "image/png": "[encoded data removed]",
      "text/plain": [
       "<matplotlib.figure.Figure at 0x113f1d860>"
      ]
     },
     "execution_count": 14,
     "metadata": {},
     "output_type": "execute_result"
    }
   ],
   "source": [
    "# Redraw the figure\n",
    "fig"
   ]
  },
  {
   "cell_type": "markdown",
   "metadata": {},
   "source": [
    "### Drawing the decision boundary\n",
    "\n",
    "Let's now draw the decision boundary - the boundary at which our learned model thinks the labels switch between groups."
   ]
  },
  {
   "cell_type": "markdown",
   "metadata": {},
   "source": [
    "<div class=\"alert alert-info\">\n",
    "This following code to find and visualize the decision boundary and margins is adapted from this \n",
    "<a href=\"http://scikit-learn.org/stable/auto_examples/svm/plot_separating_hyperplane.html#sphx-glr-auto-examples-svm-plot-separating-hyperplane-py\" class=\"alert-link\">sklearn example</a>.\n",
    "</div>"
   ]
  },
  {
   "cell_type": "code",
   "execution_count": 15,
   "metadata": {
    "collapsed": true
   },
   "outputs": [],
   "source": [
    "# Grab the current plot, and find axis sizes\n",
    "ax = fig.gca()\n",
    "xlim = ax.get_xlim()\n",
    "ylim = ax.get_ylim()\n",
    "\n",
    "# Create a grid of data to evaluate model\n",
    "xx = np.linspace(xlim[0], xlim[1], 30)\n",
    "yy = np.linspace(ylim[0], ylim[1], 30)\n",
    "YY, XX = np.meshgrid(yy, xx)\n",
    "xy = np.vstack([XX.ravel(), YY.ravel()]).T\n",
    "Z = classifier.decision_function(xy).reshape(XX.shape)\n",
    "\n",
    "# Plot the decision boundary and margins\n",
    "ax.contour(XX, YY, Z, colors='k', levels=[-1, 0, 1], alpha=0.5,\n",
    "           linestyles=['--', '-', '--']);"
   ]
  },
  {
   "cell_type": "code",
   "execution_count": 16,
   "metadata": {},
   "outputs": [
    {
     "data": {
      "image/png": "[encoded data removed]",
      "text/plain": [
       "<matplotlib.figure.Figure at 0x113f1d860>"
      ]
     },
     "execution_count": 16,
     "metadata": {},
     "output_type": "execute_result"
    }
   ],
   "source": [
    "# Redraw figure\n",
    "fig"
   ]
  },
  {
   "cell_type": "markdown",
   "metadata": {},
   "source": [
    "### Explorations\n",
    "\n",
    "With the code above, your are encouraged to explore SVMs. \n",
    "\n",
    "Investigate what happens as you change the data, change the kernel, and predict different data points. "
   ]
  }
 ],
 "metadata": {
  "kernelspec": {
   "display_name": "Python [default]",
   "language": "python",
   "name": "python3"
  },
  "language_info": {
   "codemirror_mode": {
    "name": "ipython",
    "version": 3
   },
   "file_extension": ".py",
   "mimetype": "text/x-python",
   "name": "python",
   "nbconvert_exporter": "python",
   "pygments_lexer": "ipython3",
   "version": "3.6.3"
  }
 },
 "nbformat": 4,
 "nbformat_minor": 2
}
